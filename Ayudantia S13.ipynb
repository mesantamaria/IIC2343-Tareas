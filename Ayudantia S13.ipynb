{
 "cells": [
  {
   "cell_type": "markdown",
   "metadata": {},
   "source": [
    "# Ayudantía Serialización de objetos\n",
    "#### Gabriel Lyon y José Manuel Larraín"
   ]
  },
  {
   "cell_type": "markdown",
   "metadata": {},
   "source": [
    "### Funciones útiles:\n",
    "\n",
    "* dump(s)\n",
    "* load(s)\n",
    "\n",
    "#### Pickle\n",
    "* \\_\\_getstate\\_\\_\n",
    "* \\_\\_setstate\\_\\_\n",
    "\n",
    "#### JSON\n",
    "* JSONEncoder\n",
    "* object_hook\n"
   ]
  },
  {
   "cell_type": "markdown",
   "metadata": {},
   "source": [
    "## Introducción\n",
    "\n",
    "¡Los alumnos del DDC tiene la idea del siglo! El servicio de mensajería instantánea DDChat, el que\n",
    "permitirá comunicarse de forma confidencial entre los alumnos del DDC. Lamentablemente, el infame Dr. Mavrakis, logró acceder a la base de datos y leer todos los mensajes enviados por los alumnos.\n",
    "\n",
    "Su misión es aplicar un sistema de seguridad encriptado para que no se vuelva a repetir tal desgracia,\n",
    "pero como usted no se quiere quedar sin las últimas copuchas del DDC, implementará un sistema que le\n",
    "permita visualizar las conversaciones entre dos alumnos."
   ]
  },
  {
   "cell_type": "markdown",
   "metadata": {},
   "source": [
    "### Formato Datos\n",
    "\n",
    "#### Mensajes\n",
    "\n",
    "Los mensajes vienen en el siguiente formato:\n",
    "\n",
    "- {\"send_to\": 95521376, \"content\": \"No puedo, tengo que estudiar\", \"send_by\": 76251142, \"last_view_date\": \"\", \"date\": \"18-4-2017 15:45\"}\n",
    "\n",
    "#### Usuarios\n",
    "\n",
    "Los contactos vienen en el siguiente formato:\n",
    "\n",
    "- {\"name\": \"Francisca Rios\", \"contacts\": [], \"phone_number\": 45348826}\n"
   ]
  },
  {
   "cell_type": "markdown",
   "metadata": {},
   "source": [
    "### Requerimientos \n",
    "\n",
    "En primer lugar, deberá leer los archivos y transformar su información a objetos de las clases `Usuario` y\n",
    "`Mensaje`. Esta información está contenida en la carpeta **db**, en donde la carpeta **usr** contiene a los usuarios y la carpeta **msg** contiene los mensajes. Ambos están en formato JSON.\n",
    "\n",
    "Para lograr este paso deben crear dos funciones que retornen una lista conteniendo sus respectivos objetos."
   ]
  },
  {
   "cell_type": "code",
   "execution_count": 12,
   "metadata": {},
   "outputs": [],
   "source": [
    "import pickle\n",
    "import json\n",
    "import os\n",
    "from random import randint\n",
    "from datetime import datetime\n",
    "\n",
    "\n",
    "class Usuario:\n",
    "    def __init__(self, name, contacts, phone_number):\n",
    "        self.name = name\n",
    "        self.phone_number = phone_number\n",
    "        self.contacts = contacts\n",
    "\n",
    "\n",
    "class Mensaje:\n",
    "    def __init__(self, send_to, content, send_by, date, last_view_date):\n",
    "        self.send_to = send_to\n",
    "        self.content = content\n",
    "        self.send_by = send_by\n",
    "        self.last_view_date = last_view_date\n",
    "        self.date = date\n",
    "    \n",
    "    \n",
    "    def __getstate__(self):\n",
    "        dict_mensaje = self.__dict__.copy()\n",
    "        dict_mensaje[\"content\"] =  caesarCipher(dict_mensaje[\"content\"],\n",
    "                                                dict_mensaje[\"send_by\"])\n",
    "        \n",
    "        return dict_mensaje\n",
    "        \n",
    "    def __setstate__(self, diccionario):\n",
    "        d = datetime.now()\n",
    "        diccionario[\"last_view_date\"] = \"{}/{}/{}-{}:{}\".format(d.year, d.month, d.day, d.hour, d.minute)\n",
    "        self.__dict__ = diccionario\n",
    "        \n",
    "        \n",
    "        \n",
    "def readUsers():\n",
    "    users = []\n",
    "    for path in os.listdir(\"db/usr\"):\n",
    "        with open(\"db/usr/\" + path, \"r\") as f:\n",
    "            user = json.load(f, object_hook=lambda dict_obj: Usuario(**dict_obj))\n",
    "        users.append(user)\n",
    "    print(users)\n",
    "    return users\n",
    "def readMessages():\n",
    "    mensajes = []\n",
    "    for path in os.listdir(\"db/msg\"):\n",
    "        with open (\"db/msg/\"+ path, \"r\") as f:\n",
    "            msg = json.load(f, object_hook=lambda dict_obj: Mensaje(**dict_obj))\n",
    "        mensajes.append(msg)\n",
    "    \n",
    "    return mensajes\n",
    "\n"
   ]
  },
  {
   "cell_type": "markdown",
   "metadata": {},
   "source": [
    "Una vez cargado todos los datos, deberá agregar los contactos de cada usuario. Estos cuentan con el atributo `contacts`, que viene vacío. Para que un usuario **x** sea contacto de otro **y**, es necesario que **y** haya enviado un mensaje a **x**, pero **x** no necesariamente tiene a **y** como contacto."
   ]
  },
  {
   "cell_type": "code",
   "execution_count": 13,
   "metadata": {},
   "outputs": [],
   "source": [
    "def updateUsers(usarios, mensajes):\n",
    "    users = {user.phone: user for user in usuarios}\n",
    "    for mensaje in mensajes:\n",
    "        u_envio = mensaje.send_by\n",
    "        u_recive = mensaje.send_to\n",
    "        if u_recive not in users[u_envio].contacts:\n",
    "            users[u_envio].contacts.append(u_recive)\n",
    "\n"
   ]
  },
  {
   "cell_type": "markdown",
   "metadata": {},
   "source": [
    "Luego deberá guardar los Usuarios actualizados en la carpeta **usr** de la carpeta **secure_db**, los cuales\n",
    "deben quedar en formato JSON, con un archivo por usuario."
   ]
  },
  {
   "cell_type": "code",
   "execution_count": 14,
   "metadata": {
    "collapsed": true
   },
   "outputs": [],
   "source": [
    "def saveUsers(usuarios):\n",
    "    \n",
    "    for usuario in usuarios:\n",
    "        path = \"secure_db/usr/{}\".format(str(usuario.phone_number))\n",
    "        with open(path, \"w\", encoding=\"utf-8\") as f:\n",
    "            json.dump(usuario.__dict__, f)\n",
    "    \n"
   ]
  },
  {
   "cell_type": "markdown",
   "metadata": {},
   "source": [
    "En el caso de los mensajes, que se guardan en la carpeta **msg** de **secure_db** utilizando pickle, deberá encriptar su contenido antes de guardarlos (un archivo por mensaje) con el algoritmo de seguridad más novedoso y seguro del momento: **Caesar Cipher**.\n",
    "\n",
    "**Caesar Cipher** es muy simple; dado un string y un número n, cada uno de los caracteres se reemplazarán\n",
    "por el n-ésimo caracter siguiente. Por ejemplo, dado n = 2 y la palabra Cesar, se obtendrá Eguct. El código\n",
    "Cesar se resume en la siguiente fórmula: `y(x, n) = (x+n) mód 26`, donde cada letra **x** está asociada a un número y **n** son los números a desplazar **x**, e **y** es el nuevo valor del caracer. Una operación modular retorna el resto de la división. Por ejemplo (5 + 4) mód 2 = 1. Asuman que el alfabeto no incluye a la ñ ni caracteres acentuados.\n",
    "\n",
    "¡La encriptación debe tomar lugar justo antes de serializar el archivo! La llave **n** a utilizar corresponderá\n",
    "al número telefónico de quién envió el mensaje.\n",
    "\n",
    "Finalmente, debe quedar registrado cada vez que alguien deserialice un mensaje. Para esto, deben actualizar en el archivo respectivo el atributo `last_view_date` con la fecha y hora de la última deserialización de un mensaje."
   ]
  },
  {
   "cell_type": "code",
   "execution_count": 15,
   "metadata": {
    "collapsed": true
   },
   "outputs": [],
   "source": [
    "def saveEncriptedMessages(mensajes):\n",
    "    for msg in mensajes:\n",
    "        #el randint es solo pa crear el nombre del archivo en donde se va a guardar\n",
    "        path = \"secure_db/msg/{}\".format(str(randint(0, 99999999)))\n",
    "        with open (path, \"wb\") as f:\n",
    "            picke.dump(msg, f)\n",
    "        \n",
    "        \n",
    "        \n",
    "def caesarCipher(string, key):\n",
    "    new = \"\"\n",
    "    for caracter in string:\n",
    "        if caracter.isalpha():\n",
    "            #97 = orden de la a\n",
    "            ascii_value = ord(caracter) - 97\n",
    "            value = ascii_value + key\n",
    "            value = value % 26\n",
    "            nuevo_caracter = chr(value + 97)\n",
    "            \n",
    "            new += nuevo_caracter\n",
    "    \n",
    "    return new"
   ]
  },
  {
   "cell_type": "code",
   "execution_count": null,
   "metadata": {
    "collapsed": true
   },
   "outputs": [],
   "source": []
  },
  {
   "cell_type": "code",
   "execution_count": null,
   "metadata": {
    "collapsed": true
   },
   "outputs": [],
   "source": []
  },
  {
   "cell_type": "code",
   "execution_count": null,
   "metadata": {
    "collapsed": true
   },
   "outputs": [],
   "source": []
  }
 ],
 "metadata": {
  "kernelspec": {
   "display_name": "Python 3",
   "language": "python",
   "name": "python3"
  },
  "language_info": {
   "codemirror_mode": {
    "name": "ipython",
    "version": 3
   },
   "file_extension": ".py",
   "mimetype": "text/x-python",
   "name": "python",
   "nbconvert_exporter": "python",
   "pygments_lexer": "ipython3",
   "version": "3.6.0"
  }
 },
 "nbformat": 4,
 "nbformat_minor": 2
}
